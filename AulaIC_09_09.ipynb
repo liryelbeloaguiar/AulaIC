{
  "nbformat": 4,
  "nbformat_minor": 0,
  "metadata": {
    "colab": {
      "provenance": [],
      "authorship_tag": "ABX9TyNvBM9Wpx0IX1fz9eccII9J",
      "include_colab_link": true
    },
    "kernelspec": {
      "name": "python3",
      "display_name": "Python 3"
    },
    "language_info": {
      "name": "python"
    }
  },
  "cells": [
    {
      "cell_type": "markdown",
      "metadata": {
        "id": "view-in-github",
        "colab_type": "text"
      },
      "source": [
        "<a href=\"https://colab.research.google.com/github/liryelbeloaguiar/AulaIC/blob/main/AulaIC_09_09.ipynb\" target=\"_parent\"><img src=\"https://colab.research.google.com/assets/colab-badge.svg\" alt=\"Open In Colab\"/></a>"
      ]
    },
    {
      "cell_type": "code",
      "execution_count": null,
      "metadata": {
        "id": "8lcsM583HCby"
      },
      "outputs": [],
      "source": [
        "users = [\n",
        "    {'id': 0, 'name': 'Joazinho'},\n",
        "    {'id': 1, 'name': 'Marcos'},\n",
        "    {'id': 2, 'name': 'Lulu'},\n",
        "    {'id': 3, 'name': 'CarlinhUs'},\n",
        "    {'id': 4, 'name': 'Tuma'},\n",
        "    {'id': 5, 'name': 'Leninha'},\n",
        "    {'id': 6, 'name': 'Silvinha'},\n",
        "    {'id': 7, 'name': 'Silvinho'},\n",
        "    {'id': 8, 'name': 'Tania'},\n",
        "    {'id': 9, 'name': 'CutiCuti'},\n",
        "]"
      ]
    },
    {
      "cell_type": "code",
      "source": [
        "friendships = [\n",
        "    (0,1),(0,2),(1,2),(1,3),(2,3),(3,4),\n",
        "    (4,5),(5,6),(5,7),(6,8),(7,8),(8,9)\n",
        "]"
      ],
      "metadata": {
        "id": "-qHKvcLRHn02"
      },
      "execution_count": null,
      "outputs": []
    },
    {
      "cell_type": "code",
      "source": [
        "for user in users:\n",
        "  user['friends'] = []  "
      ],
      "metadata": {
        "id": "qAXdHSakIL3Z"
      },
      "execution_count": null,
      "outputs": []
    },
    {
      "cell_type": "code",
      "source": [
        "for i, j in friendships: \n",
        "  users[i]['friends'].append(users[j])\n",
        "  users[j]['friends'].append(users[i])"
      ],
      "metadata": {
        "id": "sU8n9O7uJvW8"
      },
      "execution_count": null,
      "outputs": []
    },
    {
      "cell_type": "code",
      "source": [
        "def number_of_friends(user):\n",
        "  return len(user['friends'])"
      ],
      "metadata": {
        "id": "4AnBP9N-Ne1d"
      },
      "execution_count": null,
      "outputs": []
    },
    {
      "cell_type": "code",
      "source": [
        "total_connections = sum(number_of_friends(user)\n",
        "                        for user in users)\n",
        "print(total_connections)"
      ],
      "metadata": {
        "colab": {
          "base_uri": "https://localhost:8080/"
        },
        "id": "blM50P4zOY8w",
        "outputId": "18e222b0-eb18-4dc4-96dc-e682809f1d0d"
      },
      "execution_count": null,
      "outputs": [
        {
          "output_type": "stream",
          "name": "stdout",
          "text": [
            "24\n"
          ]
        }
      ]
    },
    {
      "cell_type": "markdown",
      "source": [
        "| Adicionar mais funçõeszinhas\n"
      ],
      "metadata": {
        "id": "22KZ7o_EPV47"
      }
    }
  ]
}